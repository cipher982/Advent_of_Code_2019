{
 "cells": [
  {
   "cell_type": "markdown",
   "metadata": {},
   "source": [
    "# **Day_04**"
   ]
  },
  {
   "cell_type": "markdown",
   "metadata": {},
   "source": [
    "## *Part 1/2*"
   ]
  },
  {
   "cell_type": "markdown",
   "metadata": {},
   "source": [
    "### Instructions"
   ]
  },
  {
   "cell_type": "markdown",
   "metadata": {},
   "source": [
    "--- Day 4: Secure Container ---\n",
    "\n",
    "You arrive at the Venus fuel depot only to discover it's protected by a password. The Elves had written the password on a sticky note, but someone threw it out.\n",
    "\n",
    "However, they do remember a few key facts about the password:\n",
    "\n",
    "    It is a six-digit number.\n",
    "    The value is within the range given in your puzzle input.\n",
    "    Two adjacent digits are the same (like 22 in 122345).\n",
    "    Going from left to right, the digits never decrease; they only ever increase or stay the same (like 111123 or 135679).\n",
    "\n",
    "Other than the range rule, the following are true:\n",
    "\n",
    "    111111 meets these criteria (double 11, never decreases).\n",
    "    223450 does not meet these criteria (decreasing pair of digits 50).\n",
    "    123789 does not meet these criteria (no double).\n",
    "\n",
    "How many different passwords within the range given in your puzzle input meet these criteria?\n",
    "\n",
    "Your puzzle input is **134564-585159**."
   ]
  },
  {
   "cell_type": "markdown",
   "metadata": {},
   "source": [
    "### Imports"
   ]
  },
  {
   "cell_type": "code",
   "execution_count": 1,
   "metadata": {},
   "outputs": [],
   "source": [
    "import pandas as pd"
   ]
  },
  {
   "cell_type": "markdown",
   "metadata": {},
   "source": [
    "### Inputs"
   ]
  },
  {
   "cell_type": "code",
   "execution_count": 2,
   "metadata": {},
   "outputs": [
    {
     "name": "stdout",
     "output_type": "stream",
     "text": [
      "Total range of possibilities: 450,595\n"
     ]
    }
   ],
   "source": [
    "# Define possible range of numbers\n",
    "total_range = list(range(134564,585159))\n",
    "print(f\"Total range of possibilities: {len(total_range):,}\")"
   ]
  },
  {
   "cell_type": "markdown",
   "metadata": {},
   "source": [
    "### Solution"
   ]
  },
  {
   "cell_type": "code",
   "execution_count": 3,
   "metadata": {},
   "outputs": [],
   "source": [
    "# Define the possibility function\n",
    "def is_it_possible(number):\n",
    "    temp = str(number)\n",
    "    \n",
    "    # Check for decreasing digits\n",
    "    highest_digit = 0\n",
    "    for digit in temp:\n",
    "        if int(digit) < highest_digit:\n",
    "            return False\n",
    "        elif int(digit) > highest_digit:\n",
    "            highest_digit = int(digit)\n",
    "            \n",
    "    # Check for at least 1 repetition\n",
    "    repetition = False\n",
    "    for ix,digit in enumerate(temp[:-1]):\n",
    "        if temp[ix] == temp[ix+1]:\n",
    "            repetition = True\n",
    "        else:\n",
    "            continue\n",
    "    if repetition == False:\n",
    "        return False   \n",
    "            \n",
    "    return True\n",
    "\n",
    "# Filter based on list comprehension\n",
    "new_range = [x for x in total_range if is_it_possible(x) == True]"
   ]
  },
  {
   "cell_type": "code",
   "execution_count": 8,
   "metadata": {},
   "outputs": [
    {
     "name": "stdout",
     "output_type": "stream",
     "text": [
      "Total possible values are: 1929\n"
     ]
    }
   ],
   "source": [
    "print(\"Total possible values are:\",(len(new_range)))"
   ]
  },
  {
   "cell_type": "markdown",
   "metadata": {},
   "source": [
    "## *Part 2/2*"
   ]
  },
  {
   "cell_type": "markdown",
   "metadata": {},
   "source": [
    "### Instructions"
   ]
  },
  {
   "cell_type": "markdown",
   "metadata": {},
   "source": [
    "--- Part Two ---\n",
    "\n",
    "\n"
   ]
  },
  {
   "cell_type": "markdown",
   "metadata": {},
   "source": [
    "### Solution"
   ]
  },
  {
   "cell_type": "markdown",
   "metadata": {},
   "source": []
  },
  {
   "cell_type": "code",
   "execution_count": null,
   "metadata": {},
   "outputs": [],
   "source": []
  },
  {
   "cell_type": "code",
   "execution_count": null,
   "metadata": {},
   "outputs": [],
   "source": []
  },
  {
   "cell_type": "code",
   "execution_count": null,
   "metadata": {},
   "outputs": [],
   "source": []
  }
 ],
 "metadata": {
  "kernelspec": {
   "display_name": "Python 3",
   "language": "python",
   "name": "python3"
  },
  "language_info": {
   "codemirror_mode": {
    "name": "ipython",
    "version": 3
   },
   "file_extension": ".py",
   "mimetype": "text/x-python",
   "name": "python",
   "nbconvert_exporter": "python",
   "pygments_lexer": "ipython3",
   "version": "3.7.5"
  }
 },
 "nbformat": 4,
 "nbformat_minor": 4
}
