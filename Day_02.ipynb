{
 "cells": [
  {
   "cell_type": "markdown",
   "metadata": {},
   "source": [
    "# **Day_02**"
   ]
  },
  {
   "cell_type": "markdown",
   "metadata": {},
   "source": [
    "## *Part 1/2*"
   ]
  },
  {
   "cell_type": "markdown",
   "metadata": {},
   "source": [
    "### Instructions"
   ]
  },
  {
   "cell_type": "markdown",
   "metadata": {},
   "source": [
    "--- Day 2: 1202 Program Alarm ---\n",
    "\n",
    "On the way to your gravity assist around the Moon, your ship computer beeps angrily about a \"1202 program alarm\". On the radio, an Elf is already explaining how to handle the situation: \"Don't worry, that's perfectly norma--\" The ship computer bursts into flames.\n",
    "\n",
    "You notify the Elves that the computer's magic smoke seems to have escaped. \"That computer ran Intcode programs like the gravity assist program it was working on; surely there are enough spare parts up there to build a new Intcode computer!\"\n",
    "\n",
    "An Intcode program is a list of integers separated by commas (like 1,0,0,3,99). To run one, start by looking at the first integer (called position 0). Here, you will find an opcode - either 1, 2, or 99. The opcode indicates what to do; for example, 99 means that the program is finished and should immediately halt. Encountering an unknown opcode means something went wrong.\n",
    "\n",
    "Opcode 1 adds together numbers read from two positions and stores the result in a third position. The three integers immediately after the opcode tell you these three positions - the first two indicate the positions from which you should read the input values, and the third indicates the position at which the output should be stored.\n",
    "\n",
    "For example, if your Intcode computer encounters 1,10,20,30, it should read the values at positions 10 and 20, add those values, and then overwrite the value at position 30 with their sum.\n",
    "\n",
    "Opcode 2 works exactly like opcode 1, except it multiplies the two inputs instead of adding them. Again, the three integers after the opcode indicate where the inputs and outputs are, not their values.\n",
    "\n",
    "Once you're done processing an opcode, move to the next one by stepping forward 4 positions.\n",
    "\n",
    "For example, suppose you have the following program:\n",
    "\n",
    "1,9,10,3,2,3,11,0,99,30,40,50\n",
    "\n",
    "For the purposes of illustration, here is the same program split into multiple lines:\n",
    "\n",
    "1,9,10,3,\n",
    "2,3,11,0,\n",
    "99,\n",
    "30,40,50\n",
    "\n",
    "The first four integers, 1,9,10,3, are at positions 0, 1, 2, and 3. Together, they represent the first opcode (1, addition), the positions of the two inputs (9 and 10), and the position of the output (3). To handle this opcode, you first need to get the values at the input positions: position 9 contains 30, and position 10 contains 40. Add these numbers together to get 70. Then, store this value at the output position; here, the output position (3) is at position 3, so it overwrites itself. Afterward, the program looks like this:\n",
    "\n",
    "1,9,10,70,\n",
    "2,3,11,0,\n",
    "99,\n",
    "30,40,50\n",
    "\n",
    "Step forward 4 positions to reach the next opcode, 2. This opcode works just like the previous, but it multiplies instead of adding. The inputs are at positions 3 and 11; these positions contain 70 and 50 respectively. Multiplying these produces 3500; this is stored at position 0:\n",
    "\n",
    "3500,9,10,70,\n",
    "2,3,11,0,\n",
    "99,\n",
    "30,40,50\n",
    "\n",
    "Stepping forward 4 more positions arrives at opcode 99, halting the program.\n",
    "\n",
    "Here are the initial and final states of a few more small programs:\n",
    "\n",
    "    1,0,0,0,99 becomes 2,0,0,0,99 (1 + 1 = 2).\n",
    "    2,3,0,3,99 becomes 2,3,0,6,99 (3 * 2 = 6).\n",
    "    2,4,4,5,99,0 becomes 2,4,4,5,99,9801 (99 * 99 = 9801).\n",
    "    1,1,1,4,99,5,6,0,99 becomes 30,1,1,4,2,5,6,0,99.\n",
    "\n",
    "Once you have a working computer, the first step is to restore the gravity assist program (your puzzle input) to the \"1202 program alarm\" state it had just before the last computer caught fire. To do this, before running the program, replace position 1 with the value 12 and replace position 2 with the value 2. What value is left at position 0 after the program halts?\n"
   ]
  },
  {
   "cell_type": "markdown",
   "metadata": {},
   "source": [
    "### Imports"
   ]
  },
  {
   "cell_type": "code",
   "execution_count": 1,
   "metadata": {},
   "outputs": [],
   "source": [
    "import pathlib"
   ]
  },
  {
   "cell_type": "markdown",
   "metadata": {},
   "source": [
    "### Inputs"
   ]
  },
  {
   "cell_type": "code",
   "execution_count": 2,
   "metadata": {},
   "outputs": [],
   "source": [
    "# Define file path for inputs\n",
    "path = pathlib.Path(\"inputs/day_02.txt\")\n",
    "\n",
    "# Read and convert to list\n",
    "opcodes_raw = path.read_text().split(\",\")\n",
    "\n",
    "# Convert items in list to numeric\n",
    "opcodes_raw = [int(i) for i in opcodes_raw]\n",
    "\n",
    "# Reset inputs to correct state per instructions\n",
    "opcodes_raw[1] = 12\n",
    "opcodes_raw[2] = 2"
   ]
  },
  {
   "cell_type": "markdown",
   "metadata": {},
   "source": [
    "### Solution"
   ]
  },
  {
   "cell_type": "code",
   "execution_count": 3,
   "metadata": {},
   "outputs": [
    {
     "name": "stdout",
     "output_type": "stream",
     "text": [
      "==================== Index:0 Code:1 ====================\n",
      "Adding!\n",
      "3\n",
      "Result 3 is going to position 3\n",
      "==================== Index:4 Code:1 ====================\n",
      "Adding!\n",
      "14\n",
      "Result 14 is going to position 3\n",
      "==================== Index:8 Code:1 ====================\n",
      "Adding!\n",
      "15\n",
      "Result 15 is going to position 14\n",
      "==================== Index:12 Code:1 ====================\n",
      "Adding!\n",
      "2\n",
      "Result 2 is going to position 15\n",
      "==================== Index:16 Code:2 ====================\n",
      "Multiplying!\n",
      "24\n",
      "Result 24 is going to position 19\n",
      "==================== Index:20 Code:1 ====================\n",
      "Adding!\n",
      "27\n",
      "Result 27 is going to position 23\n",
      "==================== Index:24 Code:2 ====================\n",
      "Multiplying!\n",
      "108\n",
      "Result 108 is going to position 27\n",
      "==================== Index:28 Code:1 ====================\n",
      "Adding!\n",
      "109\n",
      "Result 109 is going to position 31\n",
      "==================== Index:32 Code:1 ====================\n",
      "Adding!\n",
      "111\n",
      "Result 111 is going to position 35\n",
      "==================== Index:36 Code:1 ====================\n",
      "Adding!\n",
      "113\n",
      "Result 113 is going to position 39\n",
      "==================== Index:40 Code:2 ====================\n",
      "Multiplying!\n",
      "565\n",
      "Result 565 is going to position 43\n",
      "==================== Index:44 Code:1 ====================\n",
      "Adding!\n",
      "568\n",
      "Result 568 is going to position 47\n",
      "==================== Index:48 Code:2 ====================\n",
      "Multiplying!\n",
      "1704\n",
      "Result 1704 is going to position 51\n",
      "==================== Index:52 Code:1 ====================\n",
      "Adding!\n",
      "1706\n",
      "Result 1706 is going to position 55\n",
      "==================== Index:56 Code:2 ====================\n",
      "Multiplying!\n",
      "6824\n",
      "Result 6824 is going to position 59\n",
      "==================== Index:60 Code:1 ====================\n",
      "Adding!\n",
      "6825\n",
      "Result 6825 is going to position 63\n",
      "==================== Index:64 Code:2 ====================\n",
      "Multiplying!\n",
      "27300\n",
      "Result 27300 is going to position 67\n",
      "==================== Index:68 Code:2 ====================\n",
      "Multiplying!\n",
      "81900\n",
      "Result 81900 is going to position 71\n",
      "==================== Index:72 Code:1 ====================\n",
      "Adding!\n",
      "81901\n",
      "Result 81901 is going to position 75\n",
      "==================== Index:76 Code:2 ====================\n",
      "Multiplying!\n",
      "327604\n",
      "Result 327604 is going to position 79\n",
      "==================== Index:80 Code:1 ====================\n",
      "Adding!\n",
      "327606\n",
      "Result 327606 is going to position 83\n",
      "==================== Index:84 Code:2 ====================\n",
      "Multiplying!\n",
      "1310424\n",
      "Result 1310424 is going to position 87\n",
      "==================== Index:88 Code:1 ====================\n",
      "Adding!\n",
      "1310425\n",
      "Result 1310425 is going to position 91\n",
      "==================== Index:92 Code:2 ====================\n",
      "Multiplying!\n",
      "3931275\n",
      "Result 3931275 is going to position 95\n",
      "==================== Index:96 Code:1 ====================\n",
      "Adding!\n",
      "3931276\n",
      "Result 3931276 is going to position 99\n",
      "==================== Index:100 Code:1 ====================\n",
      "Adding!\n",
      "3931278\n",
      "Result 3931278 is going to position 103\n",
      "==================== Index:104 Code:1 ====================\n",
      "Adding!\n",
      "3931283\n",
      "Replacing 0 position with 3931283\n",
      "Result 3931283 is going to position 1\n",
      "==================== Index:108 Code:99 ====================\n",
      "Halting\n",
      "\n",
      "Final value at position 0 is 3931283\n"
     ]
    }
   ],
   "source": [
    "def myProgram(opcodes):\n",
    "    # Iterate through rest of the commands\n",
    "    list_by_fours = list(range(0,len(opcodes),4))\n",
    "    for ix in list_by_fours:\n",
    "        print(\"=\"*20,f\"Index:{ix}\",f\"Code:{opcodes[ix]}\",\"=\"*20)\n",
    "        \n",
    "        # End if\n",
    "        if opcodes[ix] == 99:\n",
    "            print(\"Halting\")\n",
    "            return(opcodes[0])\n",
    "\n",
    "        # Add instruction\n",
    "        if opcodes[ix] == 1:\n",
    "            result = opcodes[opcodes[ix+1]] + opcodes[opcodes[ix+2]]\n",
    "            print(\"Adding!\")\n",
    "            print(result)\n",
    "\n",
    "        # Multiply instruction\n",
    "        elif opcodes[ix] == 2:\n",
    "            result = opcodes[opcodes[ix+1]] * opcodes[opcodes[ix+2]]\n",
    "            print(\"Multiplying!\")\n",
    "            print(result)\n",
    "\n",
    "        # Catch-all\n",
    "        else:\n",
    "            print(\"Invalid opcode\")\n",
    "            return None\n",
    "        \n",
    "        # Keep track of the current answer for position 0\n",
    "        if opcodes[ix+3]==0:\n",
    "            print(f\"Replacing 0 position with {result}\")\n",
    "        \n",
    "        # Set the result in output positioning\n",
    "        print(f\"Result {result} is going to position {opcodes[opcodes[ix+3]]}\")\n",
    "        opcodes[opcodes[ix+3]] = result\n",
    "    \n",
    "\n",
    "opcodes = opcodes_raw.copy()\n",
    "answer = myProgram(opcodes)\n",
    "\n",
    "print(f\"\\nFinal value at position 0 is {answer}\")"
   ]
  },
  {
   "cell_type": "markdown",
   "metadata": {},
   "source": [
    "## *Part 1/2*"
   ]
  },
  {
   "cell_type": "markdown",
   "metadata": {},
   "source": [
    "### Instructions"
   ]
  },
  {
   "cell_type": "markdown",
   "metadata": {},
   "source": [
    "--- Part Two ---\n",
    "\n",
    "\"Good, the new computer seems to be working correctly! Keep it nearby during this mission - you'll probably use it again. Real Intcode computers support many more features than your new one, but we'll let you know what they are as you need them.\"\n",
    "\n",
    "\"However, your current priority should be to complete your gravity assist around the Moon. For this mission to succeed, we should settle on some terminology for the parts you've already built.\"\n",
    "\n",
    "Intcode programs are given as a list of integers; these values are used as the initial state for the computer's memory. When you run an Intcode program, make sure to start by initializing memory to the program's values. A position in memory is called an address (for example, the first value in memory is at \"address 0\").\n",
    "\n",
    "Opcodes (like 1, 2, or 99) mark the beginning of an instruction. The values used immediately after an opcode, if any, are called the instruction's parameters. For example, in the instruction 1,2,3,4, 1 is the opcode; 2, 3, and 4 are the parameters. The instruction 99 contains only an opcode and has no parameters.\n",
    "\n",
    "The address of the current instruction is called the instruction pointer; it starts at 0. After an instruction finishes, the instruction pointer increases by the number of values in the instruction; until you add more instructions to the computer, this is always 4 (1 opcode + 3 parameters) for the add and multiply instructions. (The halt instruction would increase the instruction pointer by 1, but it halts the program instead.)\n",
    "\n",
    "\"With terminology out of the way, we're ready to proceed. To complete the gravity assist, you need to determine what pair of inputs produces the output 19690720.\"\n",
    "\n",
    "The inputs should still be provided to the program by replacing the values at addresses 1 and 2, just like before. In this program, the value placed in address 1 is called the noun, and the value placed in address 2 is called the verb. Each of the two input values will be between 0 and 99, inclusive.\n",
    "\n",
    "Once the program has halted, its output is available at address 0, also just like before. Each time you try a pair of inputs, make sure you first reset the computer's memory to the values in the program (your puzzle input) - in other words, don't reuse memory from a previous attempt.\n",
    "\n",
    "Find the input noun and verb that cause the program to produce the output 19690720. What is 100 * noun + verb? (For example, if noun=12 and verb=2, the answer would be 1202.)"
   ]
  },
  {
   "cell_type": "markdown",
   "metadata": {},
   "source": [
    "### Solution"
   ]
  },
  {
   "cell_type": "markdown",
   "metadata": {},
   "source": [
    "Initially thought about reverse-engineering the answer and walking back to the specific inputs, but due to the issue of being unable to correctly find the factors of the multiplication/addition I went with a brute force approach"
   ]
  },
  {
   "cell_type": "code",
   "execution_count": 4,
   "metadata": {},
   "outputs": [],
   "source": [
    "# Re-write the function to just take in a single memory noun/verb value\n",
    "def myProgram(memory_state, nounVerb):\n",
    "    \n",
    "    # Create a copy as to not modify original object\n",
    "    opcodes = memory_state.copy()\n",
    "    \n",
    "    # Ensure correct extraction of parameters from input \n",
    "    noun = int(str(nounVerb).rjust(4, '0')[:2])\n",
    "    verb = int(str(nounVerb).rjust(4, '0')[2:4])\n",
    "    \n",
    "    opcodes[1] = noun\n",
    "    opcodes[2] = verb\n",
    "    \n",
    "    # Iterate through rest of the commands\n",
    "    list_by_fours = list(range(0,len(opcodes),4))\n",
    "    for ix in list_by_fours:        \n",
    "        # End if\n",
    "        if opcodes[ix] == 99:\n",
    "            return(opcodes[0])\n",
    "\n",
    "        # Add instruction\n",
    "        if opcodes[ix] == 1:\n",
    "            result = opcodes[opcodes[ix+1]] + opcodes[opcodes[ix+2]]\n",
    "\n",
    "        # Multiply instruction\n",
    "        elif opcodes[ix] == 2:\n",
    "            result = opcodes[opcodes[ix+1]] * opcodes[opcodes[ix+2]]\n",
    "\n",
    "        # Catch-all\n",
    "        else:\n",
    "            return None\n",
    "    \n",
    "        # Set result to correct address\n",
    "        opcodes[opcodes[ix+3]] = result"
   ]
  },
  {
   "cell_type": "code",
   "execution_count": 5,
   "metadata": {
    "scrolled": true
   },
   "outputs": [
    {
     "name": "stdout",
     "output_type": "stream",
     "text": [
      "==================== Found it! ====================\n",
      "NounVerb: 6979\n"
     ]
    }
   ],
   "source": [
    "answers = []\n",
    "# Iterate through the possible codes\n",
    "for nounVerb in range(101, 9898):\n",
    "    answer = myProgram(opcodes_raw, nounVerb)\n",
    "    answers.append(answer)\n",
    "    if answer == 19690720:\n",
    "        print(\"=\"*20,\"Found it!\",\"=\"*20)\n",
    "        print(f\"NounVerb: {nounVerb}\")"
   ]
  }
 ],
 "metadata": {
  "kernelspec": {
   "display_name": "Python 3",
   "language": "python",
   "name": "python3"
  },
  "language_info": {
   "codemirror_mode": {
    "name": "ipython",
    "version": 3
   },
   "file_extension": ".py",
   "mimetype": "text/x-python",
   "name": "python",
   "nbconvert_exporter": "python",
   "pygments_lexer": "ipython3",
   "version": "3.7.5"
  }
 },
 "nbformat": 4,
 "nbformat_minor": 4
}
