{
 "cells": [
  {
   "cell_type": "markdown",
   "metadata": {},
   "source": [
    "# **Day_03**"
   ]
  },
  {
   "cell_type": "markdown",
   "metadata": {},
   "source": [
    "## *Part 1/2*"
   ]
  },
  {
   "cell_type": "markdown",
   "metadata": {},
   "source": [
    "### Instructions"
   ]
  },
  {
   "cell_type": "markdown",
   "metadata": {},
   "source": [
    "--- Day 3: Crossed Wires ---\n",
    "\n",
    "The gravity assist was successful, and you're well on your way to the Venus refuelling station. During the rush back on Earth, the fuel management system wasn't completely installed, so that's next on the priority list.\n",
    "\n",
    "Opening the front panel reveals a jumble of wires. Specifically, two wires are connected to a central port and extend outward on a grid. You trace the path each wire takes as it leaves the central port, one wire per line of text (your puzzle input).\n",
    "\n",
    "The wires twist and turn, but the two wires occasionally cross paths. To fix the circuit, you need to find the intersection point closest to the central port. Because the wires are on a grid, use the Manhattan distance for this measurement. While the wires do technically cross right at the central port where they both start, this point does not count, nor does a wire count as crossing with itself.\n",
    "\n",
    "For example, if the first wire's path is R8,U5,L5,D3, then starting from the central port (o), it goes right 8, up 5, left 5, and finally down 3:\n",
    "\n",
    "```\n",
    "...........\n",
    "...........\n",
    "...........\n",
    "....+----+.\n",
    "....|....|.\n",
    "....|....|.\n",
    "....|....|.\n",
    ".........|.\n",
    ".o-------+.\n",
    "...........\n",
    "```\n",
    "\n",
    "Then, if the second wire's path is U7,R6,D4,L4, it goes up 7, right 6, down 4, and left 4:\n",
    "\n",
    "```\n",
    "...........\n",
    ".+-----+...\n",
    ".|.....|...\n",
    ".|..+--X-+.\n",
    ".|..|..|.|.\n",
    ".|.-X--+.|.\n",
    ".|..|....|.\n",
    ".|.......|.\n",
    ".o-------+.\n",
    "...........\n",
    "```\n",
    "\n",
    "These wires cross at two locations (marked X), but the lower-left one is closer to the central port: its distance is 3 + 3 = 6.\n",
    "\n",
    "Here are a few more examples:\n",
    "\n",
    "    R75,D30,R83,U83,L12,D49,R71,U7,L72\n",
    "    U62,R66,U55,R34,D71,R55,D58,R83 = distance 159\n",
    "    R98,U47,R26,D63,R33,U87,L62,D20,R33,U53,R51\n",
    "    U98,R91,D20,R16,D67,R40,U7,R15,U6,R7 = distance 135\n",
    "\n",
    "What is the Manhattan distance from the central port to the closest intersection?\n"
   ]
  },
  {
   "cell_type": "markdown",
   "metadata": {},
   "source": [
    "### Imports"
   ]
  },
  {
   "cell_type": "code",
   "execution_count": 1,
   "metadata": {},
   "outputs": [],
   "source": [
    "import pathlib"
   ]
  },
  {
   "cell_type": "markdown",
   "metadata": {},
   "source": [
    "### Inputs"
   ]
  },
  {
   "cell_type": "code",
   "execution_count": 2,
   "metadata": {},
   "outputs": [],
   "source": [
    "# Define file path for inputs\n",
    "path = pathlib.Path(\"inputs/day_03.txt\")\n",
    "\n",
    "# Read and convert to list\n",
    "diagram_raw = path.read_text().split(\"\\n\")\n",
    "\n",
    "# Split out the wires to individual lists\n",
    "wire_1 = diagram_raw[0].split(',')\n",
    "wire_2 = diagram_raw[1].split(',')"
   ]
  },
  {
   "cell_type": "markdown",
   "metadata": {},
   "source": [
    "### Solution"
   ]
  },
  {
   "cell_type": "markdown",
   "metadata": {},
   "source": [
    "#### Define the tracer function"
   ]
  },
  {
   "cell_type": "code",
   "execution_count": 126,
   "metadata": {
    "scrolled": true
   },
   "outputs": [],
   "source": [
    "# Define our function\n",
    "def trace_wires(wire):\n",
    "    global position_history\n",
    "    # Set position to center\n",
    "    current_position = [0,0]\n",
    "    # Save as to find crossed paths later\n",
    "    position_history = []\n",
    "    \n",
    "    # Iterate through each wire segment\n",
    "    for ix,segment in enumerate(wire):\n",
    "        #print('='*20,f\"Index {ix}\",f\"Segment {segment}\",'='*20)\n",
    "\n",
    "        direction = segment[0]\n",
    "        distance = int(segment[1:])\n",
    "\n",
    "        #print(f\"Dir:{direction} Dist:{distance}\")\n",
    "\n",
    "        for i in range(distance):\n",
    "            # If up\n",
    "            if direction == 'U':\n",
    "                step = tuple([current_position[0]+1,current_position[1]])\n",
    "\n",
    "            # If down\n",
    "            elif direction == 'D':\n",
    "                step = tuple([current_position[0]-1,current_position[1]])\n",
    "\n",
    "            # If left\n",
    "            elif direction == 'L':\n",
    "                step = tuple([current_position[0],current_position[1]-1])\n",
    "\n",
    "            # If right\n",
    "            elif direction == 'R':\n",
    "                step = tuple([current_position[0],current_position[1]+1])\n",
    "            \n",
    "            #print(\"step:\",step)\n",
    "            #print(\"current pos:\",current_position)\n",
    "            current_position = step\n",
    "            position_history.append(current_position)\n",
    "            \n",
    "        #position_history.append(tuple(current_position))\n",
    "        #print(f\"Current position is now {current_position}\")\n",
    "        \n",
    "    return position_history\n",
    "    \n"
   ]
  },
  {
   "cell_type": "markdown",
   "metadata": {},
   "source": [
    "#### Trace the history/paths of each wire"
   ]
  },
  {
   "cell_type": "code",
   "execution_count": 129,
   "metadata": {},
   "outputs": [
    {
     "data": {
      "text/plain": [
       "138225"
      ]
     },
     "execution_count": 129,
     "metadata": {},
     "output_type": "execute_result"
    }
   ],
   "source": [
    "len(wire_histories[0])\n",
    "len(wire_histories[1])"
   ]
  },
  {
   "cell_type": "code",
   "execution_count": 132,
   "metadata": {
    "scrolled": true
   },
   "outputs": [
    {
     "name": "stdout",
     "output_type": "stream",
     "text": [
      "Traced 288,956 wire segments.\n"
     ]
    }
   ],
   "source": [
    "wire_histories = []\n",
    "\n",
    "for wire in [wire_1,wire_2]:\n",
    "    wire_history = trace_wires(wire)\n",
    "    wire_histories.append(wire_history)\n",
    "    \n",
    "print(f\"Traced {len(wire_histories[0])+len(wire_histories[1]):,} wire segments.\")"
   ]
  },
  {
   "cell_type": "markdown",
   "metadata": {},
   "source": [
    "#### Compare paths for closest to origin"
   ]
  },
  {
   "cell_type": "code",
   "execution_count": 133,
   "metadata": {
    "scrolled": true
   },
   "outputs": [
    {
     "name": "stdout",
     "output_type": "stream",
     "text": [
      "Found new shortest path: (1383, 2487)\n",
      "Distance: 3870\n",
      "Found new shortest path: (1428, 1381)\n",
      "Distance: 2809\n",
      "Found new shortest path: (1159, 970)\n",
      "Distance: 2129\n"
     ]
    }
   ],
   "source": [
    "wire_1_history = set(wire_histories[1]) \n",
    "\n",
    "shortest_crossed_path = 1e9\n",
    "for ix,position in enumerate(wire_histories[0]):\n",
    "    if position == (0,0):\n",
    "        continue\n",
    "    if position in wire_1_history:\n",
    "        distance = abs(position[1] - 0) + abs(position[0] - 0)\n",
    "        if distance < shortest_crossed_path:\n",
    "            shortest_crossed_path = distance\n",
    "            print(f\"Found new shortest path: {position}\")\n",
    "            print(f\"Distance: {distance}\")"
   ]
  },
  {
   "cell_type": "markdown",
   "metadata": {},
   "source": [
    "## *Part 2/2*"
   ]
  },
  {
   "cell_type": "markdown",
   "metadata": {},
   "source": [
    "### Instructions"
   ]
  },
  {
   "cell_type": "raw",
   "metadata": {},
   "source": []
  },
  {
   "cell_type": "markdown",
   "metadata": {},
   "source": [
    "### Solution"
   ]
  },
  {
   "cell_type": "markdown",
   "metadata": {},
   "source": [
    "2+2"
   ]
  },
  {
   "cell_type": "code",
   "execution_count": null,
   "metadata": {},
   "outputs": [],
   "source": [
    "2+2"
   ]
  },
  {
   "cell_type": "code",
   "execution_count": null,
   "metadata": {},
   "outputs": [],
   "source": []
  }
 ],
 "metadata": {
  "kernelspec": {
   "display_name": "Python 3",
   "language": "python",
   "name": "python3"
  },
  "language_info": {
   "codemirror_mode": {
    "name": "ipython",
    "version": 3
   },
   "file_extension": ".py",
   "mimetype": "text/x-python",
   "name": "python",
   "nbconvert_exporter": "python",
   "pygments_lexer": "ipython3",
   "version": "3.7.5"
  }
 },
 "nbformat": 4,
 "nbformat_minor": 4
}
