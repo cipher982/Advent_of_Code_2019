{
 "cells": [
  {
   "cell_type": "markdown",
   "metadata": {},
   "source": [
    "# **Day_03**"
   ]
  },
  {
   "cell_type": "markdown",
   "metadata": {},
   "source": [
    "## *Part 1/2*"
   ]
  },
  {
   "cell_type": "markdown",
   "metadata": {},
   "source": [
    "### Instructions"
   ]
  },
  {
   "cell_type": "markdown",
   "metadata": {},
   "source": [
    "--- Day 3: Crossed Wires ---\n",
    "\n",
    "The gravity assist was successful, and you're well on your way to the Venus refuelling station. During the rush back on Earth, the fuel management system wasn't completely installed, so that's next on the priority list.\n",
    "\n",
    "Opening the front panel reveals a jumble of wires. Specifically, two wires are connected to a central port and extend outward on a grid. You trace the path each wire takes as it leaves the central port, one wire per line of text (your puzzle input).\n",
    "\n",
    "The wires twist and turn, but the two wires occasionally cross paths. To fix the circuit, you need to find the intersection point closest to the central port. Because the wires are on a grid, use the Manhattan distance for this measurement. While the wires do technically cross right at the central port where they both start, this point does not count, nor does a wire count as crossing with itself.\n",
    "\n",
    "For example, if the first wire's path is R8,U5,L5,D3, then starting from the central port (o), it goes right 8, up 5, left 5, and finally down 3:\n",
    "\n",
    "```\n",
    "...........\n",
    "...........\n",
    "...........\n",
    "....+----+.\n",
    "....|....|.\n",
    "....|....|.\n",
    "....|....|.\n",
    ".........|.\n",
    ".o-------+.\n",
    "...........\n",
    "```\n",
    "\n",
    "Then, if the second wire's path is U7,R6,D4,L4, it goes up 7, right 6, down 4, and left 4:\n",
    "\n",
    "```\n",
    "...........\n",
    ".+-----+...\n",
    ".|.....|...\n",
    ".|..+--X-+.\n",
    ".|..|..|.|.\n",
    ".|.-X--+.|.\n",
    ".|..|....|.\n",
    ".|.......|.\n",
    ".o-------+.\n",
    "...........\n",
    "```\n",
    "\n",
    "These wires cross at two locations (marked X), but the lower-left one is closer to the central port: its distance is 3 + 3 = 6.\n",
    "\n",
    "Here are a few more examples:\n",
    "\n",
    "    R75,D30,R83,U83,L12,D49,R71,U7,L72\n",
    "    U62,R66,U55,R34,D71,R55,D58,R83 = distance 159\n",
    "    R98,U47,R26,D63,R33,U87,L62,D20,R33,U53,R51\n",
    "    U98,R91,D20,R16,D67,R40,U7,R15,U6,R7 = distance 135\n",
    "\n",
    "What is the Manhattan distance from the central port to the closest intersection?\n"
   ]
  },
  {
   "cell_type": "markdown",
   "metadata": {},
   "source": [
    "### Imports"
   ]
  },
  {
   "cell_type": "code",
   "execution_count": 1,
   "metadata": {},
   "outputs": [],
   "source": [
    "import pathlib"
   ]
  },
  {
   "cell_type": "markdown",
   "metadata": {},
   "source": [
    "### Inputs"
   ]
  },
  {
   "cell_type": "code",
   "execution_count": 2,
   "metadata": {},
   "outputs": [],
   "source": [
    "# Define file path for inputs\n",
    "path = pathlib.Path(\"inputs/day_03.txt\")\n",
    "\n",
    "# Read and convert to list\n",
    "diagram_raw = path.read_text().split(\"\\n\")\n",
    "\n",
    "# Split out the wires to individual lists\n",
    "wire_1 = diagram_raw[0].split(',')\n",
    "wire_2 = diagram_raw[1].split(',')"
   ]
  },
  {
   "cell_type": "markdown",
   "metadata": {},
   "source": [
    "### Solution"
   ]
  },
  {
   "cell_type": "markdown",
   "metadata": {},
   "source": [
    "#### Define the tracer function"
   ]
  },
  {
   "cell_type": "code",
   "execution_count": 3,
   "metadata": {
    "scrolled": true
   },
   "outputs": [],
   "source": [
    "# Define our function\n",
    "def trace_wires(wire):\n",
    "    global position_history\n",
    "    # Set position to center\n",
    "    current_position = [0,0]\n",
    "    # Save as to find crossed paths later\n",
    "    position_history = []\n",
    "    \n",
    "    # Iterate through each wire segment\n",
    "    for ix,segment in enumerate(wire):\n",
    "        #print('='*20,f\"Index {ix}\",f\"Segment {segment}\",'='*20)\n",
    "\n",
    "        direction = segment[0]\n",
    "        distance = int(segment[1:])\n",
    "\n",
    "        #print(f\"Dir:{direction} Dist:{distance}\")\n",
    "\n",
    "        for i in range(distance):\n",
    "            # If up\n",
    "            if direction == 'U':\n",
    "                step = tuple([current_position[0]+1,current_position[1]])\n",
    "\n",
    "            # If down\n",
    "            elif direction == 'D':\n",
    "                step = tuple([current_position[0]-1,current_position[1]])\n",
    "\n",
    "            # If left\n",
    "            elif direction == 'L':\n",
    "                step = tuple([current_position[0],current_position[1]-1])\n",
    "\n",
    "            # If right\n",
    "            elif direction == 'R':\n",
    "                step = tuple([current_position[0],current_position[1]+1])\n",
    "            \n",
    "            #print(\"step:\",step)\n",
    "            #print(\"current pos:\",current_position)\n",
    "            current_position = step\n",
    "            position_history.append(current_position)\n",
    "            \n",
    "        #position_history.append(tuple(current_position))\n",
    "        #print(f\"Current position is now {current_position}\")\n",
    "        \n",
    "    return position_history\n",
    "    \n"
   ]
  },
  {
   "cell_type": "markdown",
   "metadata": {},
   "source": [
    "#### Trace the history/paths of each wire"
   ]
  },
  {
   "cell_type": "code",
   "execution_count": 5,
   "metadata": {
    "scrolled": true
   },
   "outputs": [
    {
     "name": "stdout",
     "output_type": "stream",
     "text": [
      "Traced 288,956 wire segments.\n"
     ]
    }
   ],
   "source": [
    "wire_histories = []\n",
    "\n",
    "for wire in [wire_1,wire_2]:\n",
    "    wire_history = trace_wires(wire)\n",
    "    wire_histories.append(wire_history)\n",
    "    \n",
    "print(f\"Traced {len(wire_histories[0])+len(wire_histories[1]):,} wire segments.\")"
   ]
  },
  {
   "cell_type": "markdown",
   "metadata": {},
   "source": [
    "#### Compare paths for closest to origin"
   ]
  },
  {
   "cell_type": "code",
   "execution_count": 6,
   "metadata": {
    "scrolled": true
   },
   "outputs": [
    {
     "name": "stdout",
     "output_type": "stream",
     "text": [
      "Found new shortest path: (1383, 2487)\n",
      "Distance: 3870\n",
      "Found new shortest path: (1428, 1381)\n",
      "Distance: 2809\n",
      "Found new shortest path: (1159, 970)\n",
      "Distance: 2129\n"
     ]
    }
   ],
   "source": [
    "wire_1_history = set(wire_histories[1]) \n",
    "\n",
    "shortest_crossed_path = 1e9\n",
    "for ix,position in enumerate(wire_histories[0]):\n",
    "    if position == (0,0):\n",
    "        continue\n",
    "    if position in wire_1_history:\n",
    "        distance = abs(position[1] - 0) + abs(position[0] - 0)\n",
    "        if distance < shortest_crossed_path:\n",
    "            shortest_crossed_path = distance\n",
    "            print(f\"Found new shortest path: {position}\")\n",
    "            print(f\"Distance: {distance}\")"
   ]
  },
  {
   "cell_type": "markdown",
   "metadata": {},
   "source": [
    "## *Part 2/2*"
   ]
  },
  {
   "cell_type": "markdown",
   "metadata": {},
   "source": [
    "### Instructions"
   ]
  },
  {
   "cell_type": "markdown",
   "metadata": {},
   "source": [
    "--- Part Two ---\n",
    "\n",
    "It turns out that this circuit is very timing-sensitive; you actually need to minimize the signal delay.\n",
    "\n",
    "To do this, calculate the number of steps each wire takes to reach each intersection; choose the intersection where the sum of both wires' steps is lowest. If a wire visits a position on the grid multiple times, use the steps value from the first time it visits that position when calculating the total value of a specific intersection.\n",
    "\n",
    "The number of steps a wire takes is the total number of grid squares the wire has entered to get to that location, including the intersection being considered. Again consider the example from above:\n",
    "\n",
    "```\n",
    "...........\n",
    ".+-----+...\n",
    ".|.....|...\n",
    ".|..+--X-+.\n",
    ".|..|..|.|.\n",
    ".|.-X--+.|.\n",
    ".|..|....|.\n",
    ".|.......|.\n",
    ".o-------+.\n",
    "...........\n",
    "```\n",
    "\n",
    "In the above example, the intersection closest to the central port is reached after 8+5+5+2 = 20 steps by the first wire and 7+6+4+3 = 20 steps by the second wire for a total of 20+20 = 40 steps.\n",
    "\n",
    "However, the top-right intersection is better: the first wire takes only 8+5+2 = 15 and the second wire takes only 7+6+2 = 15, a total of 15+15 = 30 steps.\n",
    "\n",
    "Here are the best steps for the extra examples from above:\n",
    "\n",
    "    R75,D30,R83,U83,L12,D49,R71,U7,L72\n",
    "    U62,R66,U55,R34,D71,R55,D58,R83 = 610 steps\n",
    "    R98,U47,R26,D63,R33,U87,L62,D20,R33,U53,R51\n",
    "    U98,R91,D20,R16,D67,R40,U7,R15,U6,R7 = 410 steps\n",
    "\n",
    "What is the fewest combined steps the wires must take to reach an intersection?\n"
   ]
  },
  {
   "cell_type": "markdown",
   "metadata": {},
   "source": [
    "### Solution"
   ]
  },
  {
   "cell_type": "markdown",
   "metadata": {},
   "source": [
    "We will just make some slight modifications to the function to keep track of total steps"
   ]
  },
  {
   "cell_type": "code",
   "execution_count": 7,
   "metadata": {},
   "outputs": [],
   "source": [
    "# Define our function\n",
    "def trace_wires(wire):\n",
    "    global position_history\n",
    "    # Set position to center\n",
    "    current_position = [0,0]\n",
    "    # Save as to find crossed paths later\n",
    "    position_history = []\n",
    "    # Keep track of total distance traveled\n",
    "    total_distance = 0\n",
    "    # Dict to link distances to positions\n",
    "    total_distance_dict = {}\n",
    "    \n",
    "    # Iterate through each wire segment\n",
    "    for ix,segment in enumerate(wire):\n",
    "        #print('='*20,f\"Index {ix}\",f\"Segment {segment}\",'='*20)\n",
    "\n",
    "        direction = segment[0]\n",
    "        distance = int(segment[1:])\n",
    "        #print(f\"Dir:{direction} Dist:{distance}\")\n",
    "\n",
    "        for i in range(distance):\n",
    "            # If up\n",
    "            if direction == 'U':\n",
    "                step = tuple([current_position[0]+1,current_position[1]])\n",
    "\n",
    "            # If down\n",
    "            elif direction == 'D':\n",
    "                step = tuple([current_position[0]-1,current_position[1]])\n",
    "\n",
    "            # If left\n",
    "            elif direction == 'L':\n",
    "                step = tuple([current_position[0],current_position[1]-1])\n",
    "\n",
    "            # If right\n",
    "            elif direction == 'R':\n",
    "                step = tuple([current_position[0],current_position[1]+1])\n",
    "            \n",
    "            #print(\"step:\",step)\n",
    "            #print(\"current pos:\",current_position)\n",
    "            current_position = step\n",
    "            position_history.append(current_position)\n",
    "            \n",
    "            total_distance += 1\n",
    "            total_distance_dict[total_distance] = current_position\n",
    "            \n",
    "        #position_history.append(tuple(current_position))\n",
    "        #print(f\"Current position is now {current_position}\")\n",
    "        \n",
    "    return position_history, total_distance_dict\n",
    "    \n"
   ]
  },
  {
   "cell_type": "markdown",
   "metadata": {},
   "source": [
    "Trace the history/paths of each wire while also tracking the total steps elapsed at each segment/step"
   ]
  },
  {
   "cell_type": "code",
   "execution_count": 8,
   "metadata": {
    "scrolled": true
   },
   "outputs": [
    {
     "name": "stdout",
     "output_type": "stream",
     "text": [
      "Traced 288,956 wire segments.\n"
     ]
    }
   ],
   "source": [
    "wire_histories = []\n",
    "wire_distance_dicts = []\n",
    "\n",
    "for wire in [wire_1,wire_2]:\n",
    "    wire_history, wire_distance_dict = trace_wires(wire)\n",
    "    wire_histories.append(wire_history)\n",
    "    wire_distance_dicts.append(wire_distance_dict)\n",
    "    \n",
    "print(f\"Traced {len(wire_histories[0])+len(wire_histories[1]):,} wire segments.\")"
   ]
  },
  {
   "cell_type": "markdown",
   "metadata": {},
   "source": [
    "Add up combined steps to each wire crossing and print results"
   ]
  },
  {
   "cell_type": "code",
   "execution_count": 38,
   "metadata": {},
   "outputs": [
    {
     "name": "stdout",
     "output_type": "stream",
     "text": [
      "==================== Found crossed path ====================\n",
      "Position: (1383, 2487)\n",
      "Steps for wire 1:  9610\n",
      "Steps for wire 2:  125052\n",
      "Combined distance:  134662\n",
      "==================== Found crossed path ====================\n",
      "Position: (1428, 1381)\n",
      "Steps for wire 1:  14365\n",
      "Steps for wire 2:  127047\n",
      "Combined distance:  141412\n",
      "==================== Found crossed path ====================\n",
      "Position: (1428, 1906)\n",
      "Steps for wire 1:  14890\n",
      "Steps for wire 2:  125678\n",
      "Combined distance:  140568\n",
      "==================== Found crossed path ====================\n",
      "Position: (1383, 2326)\n",
      "Steps for wire 1:  15355\n",
      "Steps for wire 2:  125213\n",
      "Combined distance:  140568\n",
      "==================== Found crossed path ====================\n",
      "Position: (1383, 2546)\n",
      "Steps for wire 1:  21603\n",
      "Steps for wire 2:  124993\n",
      "Combined distance:  146596\n",
      "==================== Found crossed path ====================\n",
      "Position: (1383, 2072)\n",
      "Steps for wire 1:  22099\n",
      "Steps for wire 2:  125467\n",
      "Combined distance:  147566\n",
      "==================== Found crossed path ====================\n",
      "Position: (1159, 970)\n",
      "Steps for wire 1:  24233\n",
      "Steps for wire 2:  128319\n",
      "Combined distance:  152552\n",
      "==================== Found crossed path ====================\n",
      "Position: (1387, 970)\n",
      "Steps for wire 1:  24461\n",
      "Steps for wire 2:  138037\n",
      "Combined distance:  162498\n",
      "==================== Found crossed path ====================\n",
      "Position: (1565, 1381)\n",
      "Steps for wire 1:  25050\n",
      "Steps for wire 2:  126910\n",
      "Combined distance:  151960\n",
      "==================== Found crossed path ====================\n",
      "Position: (1850, 1403)\n",
      "Steps for wire 1:  25357\n",
      "Steps for wire 2:  126603\n",
      "Combined distance:  151960\n",
      "==================== Found crossed path ====================\n",
      "Position: (1383, 2511)\n",
      "Steps for wire 1:  30432\n",
      "Steps for wire 2:  125028\n",
      "Combined distance:  155460\n",
      "==================== Found crossed path ====================\n",
      "Position: (1259, 3385)\n",
      "Steps for wire 1:  32186\n",
      "Steps for wire 2:  124030\n",
      "Combined distance:  156216\n",
      "==================== Found crossed path ====================\n",
      "Position: (1598, 3791)\n",
      "Steps for wire 1:  32931\n",
      "Steps for wire 2:  121959\n",
      "Combined distance:  154890\n",
      "==================== Found crossed path ====================\n",
      "Position: (1974, 3791)\n",
      "Steps for wire 1:  33307\n",
      "Steps for wire 2:  121215\n",
      "Combined distance:  154522\n",
      "==================== Found crossed path ====================\n",
      "Position: (1974, 4052)\n",
      "Steps for wire 1:  33608\n",
      "Steps for wire 2:  120954\n",
      "Combined distance:  154562\n",
      "==================== Found crossed path ====================\n",
      "Position: (1752, 4303)\n",
      "Steps for wire 1:  34081\n",
      "Steps for wire 2:  117739\n",
      "Combined distance:  151820\n",
      "==================== Found crossed path ====================\n",
      "Position: (1752, 4503)\n",
      "Steps for wire 1:  34281\n",
      "Steps for wire 2:  120281\n",
      "Combined distance:  154562\n"
     ]
    }
   ],
   "source": [
    "for i in range(1,len(wire_distance_dicts[0])+1):\n",
    "    position_1 = wire_distance_dicts[0][i]\n",
    "    if position_1 == (0,0):\n",
    "        continue\n",
    "    if position_1 in wire_distance_dicts[1].values():\n",
    "        print(\"=\"*20,\"Found crossed path\",\"=\"*20)\n",
    "        print(\"Position:\",position_1)\n",
    "        print(\"Steps for wire 1: \",i)\n",
    "        position_2 = [(k,v) for k,v in wire_distance_dicts[1].items() if v == position_1]\n",
    "        position_2_distance = position_2[0][0]\n",
    "        combined_distance = i + position_2_distance\n",
    "        print(\"Steps for wire 2: \",position_2_distance)\n",
    "        print(\"Combined distance: \",combined_distance)"
   ]
  },
  {
   "cell_type": "code",
   "execution_count": null,
   "metadata": {},
   "outputs": [],
   "source": []
  }
 ],
 "metadata": {
  "kernelspec": {
   "display_name": "Python 3",
   "language": "python",
   "name": "python3"
  },
  "language_info": {
   "codemirror_mode": {
    "name": "ipython",
    "version": 3
   },
   "file_extension": ".py",
   "mimetype": "text/x-python",
   "name": "python",
   "nbconvert_exporter": "python",
   "pygments_lexer": "ipython3",
   "version": "3.7.5"
  }
 },
 "nbformat": 4,
 "nbformat_minor": 4
}
